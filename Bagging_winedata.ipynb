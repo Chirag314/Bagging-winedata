{
  "nbformat": 4,
  "nbformat_minor": 0,
  "metadata": {
    "colab": {
      "provenance": [],
      "collapsed_sections": [],
      "authorship_tag": "ABX9TyPxjsRwHew0CnD4p1AzAirF",
      "include_colab_link": true
    },
    "kernelspec": {
      "name": "python3",
      "display_name": "Python 3"
    },
    "language_info": {
      "name": "python"
    }
  },
  "cells": [
    {
      "cell_type": "markdown",
      "metadata": {
        "id": "view-in-github",
        "colab_type": "text"
      },
      "source": [
        "<a href=\"https://colab.research.google.com/github/Chirag314/Bagging-winedata/blob/main/Bagging_winedata.ipynb\" target=\"_parent\"><img src=\"https://colab.research.google.com/assets/colab-badge.svg\" alt=\"Open In Colab\"/></a>"
      ]
    },
    {
      "cell_type": "markdown",
      "source": [
        "###This notebook is copied from exercises from book Ensemble Machine Learning Cookbook."
      ],
      "metadata": {
        "id": "de3ggC8Kv_99"
      }
    },
    {
      "cell_type": "code",
      "source": [
        "#import required libraries\n",
        "import warnings\n",
        "warnings.filterwarnings('ignore')\n",
        "import os\n",
        "import pandas as pd\n",
        "import numpy as np\n",
        "from sklearn.model_selection import train_test_split\n",
        "from sklearn.linear_model import SGDRegressor\n",
        "from sklearn.metrics import mean_squared_error, r2_score\n",
        "from sklearn.ensemble import BaggingClassifier\n",
        "from sklearn.tree import DecisionTreeClassifier\n",
        "from sklearn.utils import resample\n",
        "import matplotlib.pyplot as plt"
      ],
      "metadata": {
        "id": "CWjW7ISB-O8s"
      },
      "execution_count": 1,
      "outputs": []
    },
    {
      "cell_type": "code",
      "execution_count": 2,
      "metadata": {
        "colab": {
          "base_uri": "https://localhost:8080/"
        },
        "id": "rror9ooAv2jU",
        "outputId": "16352e62-644e-4283-afc3-2b4bee16d3bd"
      },
      "outputs": [
        {
          "output_type": "stream",
          "name": "stdout",
          "text": [
            "   Quality  Alcohol  Malic Acid   Ash  Alcalinity  Magnesium  Total phenols  \\\n",
            "0        1    13.20        1.78  2.14        11.2        100           2.65   \n",
            "1        1    13.16        2.36  2.67        18.6        101           2.80   \n",
            "2        1    14.37        1.95  2.50        16.8        113           3.85   \n",
            "3        1    13.24        2.59  2.87        21.0        118           2.80   \n",
            "4        1    14.20        1.76  2.45        15.2        112           3.27   \n",
            "\n",
            "   Flavanoids  Nonflavanoid phenols  Proanthocyanins  Color intensity   Hue  \\\n",
            "0        2.76                  0.26             1.28             4.38  1.05   \n",
            "1        3.24                  0.30             2.81             5.68  1.03   \n",
            "2        3.49                  0.24             2.18             7.80  0.86   \n",
            "3        2.69                  0.39             1.82             4.32  1.04   \n",
            "4        3.39                  0.34             1.97             6.75  1.05   \n",
            "\n",
            "   OD280  Proline  \n",
            "0   3.40     1050  \n",
            "1   3.17     1185  \n",
            "2   3.45     1480  \n",
            "3   2.93      735  \n",
            "4   2.85     1450  \n"
          ]
        }
      ],
      "source": [
        "# Read data from github. Use raw format and copy url# Note normal url and raw url will be different.\n",
        "import pandas as pd\n",
        "pd.options.display.max_rows=None\n",
        "pd.options.display.max_columns=None\n",
        "url = 'https://raw.githubusercontent.com/PacktPublishing/Ensemble-Machine-Learning-Cookbook/master/Chapter05/winedata.csv'\n",
        "df_winedata = pd.read_csv(url)\n",
        "#df = pd.read_csv(url)\n",
        "print(df_winedata.head(5))"
      ]
    },
    {
      "cell_type": "code",
      "source": [
        "df_winedata.shape"
      ],
      "metadata": {
        "colab": {
          "base_uri": "https://localhost:8080/"
        },
        "id": "7Bssz3tOvWQW",
        "outputId": "546694bc-0431-44cb-ba8f-93f83f8a7625"
      },
      "execution_count": 3,
      "outputs": [
        {
          "output_type": "execute_result",
          "data": {
            "text/plain": [
              "(177, 14)"
            ]
          },
          "metadata": {},
          "execution_count": 3
        }
      ]
    },
    {
      "cell_type": "code",
      "source": [
        "df_winedata.dtypes\n",
        "#df_backorder.describe()"
      ],
      "metadata": {
        "colab": {
          "base_uri": "https://localhost:8080/"
        },
        "id": "SHW82cySCym-",
        "outputId": "ad7a743a-b751-4102-b79a-1decb6f0994d"
      },
      "execution_count": 4,
      "outputs": [
        {
          "output_type": "execute_result",
          "data": {
            "text/plain": [
              "Quality                   int64\n",
              "Alcohol                 float64\n",
              "Malic Acid              float64\n",
              "Ash                     float64\n",
              "Alcalinity              float64\n",
              "Magnesium                 int64\n",
              "Total phenols           float64\n",
              "Flavanoids              float64\n",
              "Nonflavanoid phenols    float64\n",
              "Proanthocyanins         float64\n",
              "Color intensity         float64\n",
              "Hue                     float64\n",
              "OD280                   float64\n",
              "Proline                   int64\n",
              "dtype: object"
            ]
          },
          "metadata": {},
          "execution_count": 4
        }
      ]
    },
    {
      "cell_type": "code",
      "source": [
        "# check missing values\n",
        "df_winedata.isnull().sum()\n",
        "columns_with_missing_values=df_winedata.columns[df_winedata.isnull().any()]\n",
        "df_winedata[columns_with_missing_values].isnull().sum()"
      ],
      "metadata": {
        "colab": {
          "base_uri": "https://localhost:8080/"
        },
        "id": "VcgsCJAGC5cN",
        "outputId": "5ec0bdee-daee-4769-9e7e-b88a342b4ab6"
      },
      "execution_count": 5,
      "outputs": [
        {
          "output_type": "execute_result",
          "data": {
            "text/plain": [
              "Series([], dtype: float64)"
            ]
          },
          "metadata": {},
          "execution_count": 5
        }
      ]
    },
    {
      "cell_type": "markdown",
      "source": [
        "#####WWe notice that there are no missing values in wine data"
      ],
      "metadata": {
        "id": "8LysqcOnDPh-"
      }
    },
    {
      "cell_type": "code",
      "source": [
        "#We separate our features and the response set. We also split our data into training and testing subsets.\n",
        "X=df_winedata.iloc[:,1:14]\n",
        "Y=df_winedata.iloc[:,0]\n",
        "\n",
        "X_train,X_test, Y_train, Y_test=train_test_split(X,Y , random_state=1)"
      ],
      "metadata": {
        "id": "UJ79phHJYnuj"
      },
      "execution_count": 8,
      "outputs": []
    },
    {
      "cell_type": "code",
      "source": [
        "#We create an instance of the DecisionTreeClassifier class and pass it to the BaggingClassifier():\n",
        "#Note that in the preceding code block, we have declared bootstrap=True. This is the default value and indicates that samples are drawn with replacement\n",
        "dt_model=DecisionTreeClassifier(criterion='entropy')\n",
        "bag_dt_model=BaggingClassifier(dt_model,max_features=1.0,n_estimators=5, random_state=1,bootstrap=True)"
      ],
      "metadata": {
        "id": "HGyUpn7QYnrA"
      },
      "execution_count": 10,
      "outputs": []
    },
    {
      "cell_type": "code",
      "source": [
        "# Fit the model\n",
        "bag_dt_model.fit(X_train, Y_train)"
      ],
      "metadata": {
        "colab": {
          "base_uri": "https://localhost:8080/"
        },
        "id": "gJdrccdmYnoq",
        "outputId": "15a04a04-e75d-4376-d4ec-2198d8c8f307"
      },
      "execution_count": 11,
      "outputs": [
        {
          "output_type": "execute_result",
          "data": {
            "text/plain": [
              "BaggingClassifier(base_estimator=DecisionTreeClassifier(criterion='entropy'),\n",
              "                  n_estimators=5, random_state=1)"
            ]
          },
          "metadata": {},
          "execution_count": 11
        }
      ]
    },
    {
      "cell_type": "code",
      "source": [
        "# Check the score after passing test data\n",
        "bag_dt_model.score(X_test,Y_test)"
      ],
      "metadata": {
        "colab": {
          "base_uri": "https://localhost:8080/"
        },
        "id": "GPREFhhZYnmb",
        "outputId": "21822c55-d130-49bc-a400-537a72a833d2"
      },
      "execution_count": 12,
      "outputs": [
        {
          "output_type": "execute_result",
          "data": {
            "text/plain": [
              "0.9111111111111111"
            ]
          },
          "metadata": {},
          "execution_count": 12
        }
      ]
    },
    {
      "cell_type": "code",
      "source": [
        "#We use the predict function to predict the response variable as follows:\n",
        "predictedvalues=bag_dt_model.predict(X_test,)"
      ],
      "metadata": {
        "id": "HweUpIiZYnkP"
      },
      "execution_count": 13,
      "outputs": []
    },
    {
      "cell_type": "code",
      "source": [
        "#We will now use a code to plot the confusion matrix.\n",
        "def plot_confusion_matrix(cm,classes,normalize=False,title='Confusion matrix',cmap=plt.cm.Blues):\n",
        "  plt.imshow(cm,interpolation='nearest',cmap=cmap)\n",
        "  plt.title(title)\n",
        "  plt.colorbar()\n",
        "  tick_marks=np.arange(len(classes))\n",
        "  plt.xticks(tick_marks, classes,rotation=45)\n",
        "  plt.yticks(tick_marks, classes)\n",
        "\n",
        "  thresh=cm.max()\n",
        "  for i,j in itertools.product(range(cm.shape[0]),range(cm.shape[1])):\n",
        "    plt.text(j,i ,cm[i,j],horizontalalighment='center',\n",
        "             color='white' if cm[i,j]>thresh else 'black')\n",
        "    \n",
        "    plt.tight_layout()\n",
        "    plt.ylabel('Actuals')\n",
        "    plt.xlabel('Predicted')"
      ],
      "metadata": {
        "id": "b_qCWVsMYniU"
      },
      "execution_count": 15,
      "outputs": []
    },
    {
      "cell_type": "code",
      "source": [
        "# This  variable holds class labels of our target\n",
        "target_names=['1','2','3']\n",
        "import itertools\n",
        "from sklearn.metrics import plot_confusion_matrix\n",
        "from sklearn.metrics import confusion_matrix\n",
        "cm=confusion_matrix(Y_test, predictedvalues)\n",
        "\n",
        "# Plotting the confusion matriz\n",
        "plt.figure(figsize=(3,3))\n",
        "plot_confusion_matrix(cm=cm,classes=target_names,normalize=False)\n",
        "plt.show()\n"
      ],
      "metadata": {
        "colab": {
          "base_uri": "https://localhost:8080/",
          "height": 356
        },
        "id": "iu4KukdqYngU",
        "outputId": "35b4b59b-8c4e-461e-f536-8bb58be8a458"
      },
      "execution_count": 17,
      "outputs": [
        {
          "output_type": "error",
          "ename": "TypeError",
          "evalue": "ignored",
          "traceback": [
            "\u001b[0;31m---------------------------------------------------------------------------\u001b[0m",
            "\u001b[0;31mTypeError\u001b[0m                                 Traceback (most recent call last)",
            "\u001b[0;32m<ipython-input-17-876e1b23c508>\u001b[0m in \u001b[0;36m<module>\u001b[0;34m\u001b[0m\n\u001b[1;32m      8\u001b[0m \u001b[0;31m# Plotting the confusion matriz\u001b[0m\u001b[0;34m\u001b[0m\u001b[0;34m\u001b[0m\u001b[0;34m\u001b[0m\u001b[0m\n\u001b[1;32m      9\u001b[0m \u001b[0mplt\u001b[0m\u001b[0;34m.\u001b[0m\u001b[0mfigure\u001b[0m\u001b[0;34m(\u001b[0m\u001b[0mfigsize\u001b[0m\u001b[0;34m=\u001b[0m\u001b[0;34m(\u001b[0m\u001b[0;36m3\u001b[0m\u001b[0;34m,\u001b[0m\u001b[0;36m3\u001b[0m\u001b[0;34m)\u001b[0m\u001b[0;34m)\u001b[0m\u001b[0;34m\u001b[0m\u001b[0;34m\u001b[0m\u001b[0m\n\u001b[0;32m---> 10\u001b[0;31m \u001b[0mplot_confusion_matrix\u001b[0m\u001b[0;34m(\u001b[0m\u001b[0mcm\u001b[0m\u001b[0;34m=\u001b[0m\u001b[0mcm\u001b[0m\u001b[0;34m,\u001b[0m\u001b[0mclasses\u001b[0m\u001b[0;34m=\u001b[0m\u001b[0mtarget_names\u001b[0m\u001b[0;34m,\u001b[0m\u001b[0mnormalize\u001b[0m\u001b[0;34m=\u001b[0m\u001b[0;32mFalse\u001b[0m\u001b[0;34m)\u001b[0m\u001b[0;34m\u001b[0m\u001b[0;34m\u001b[0m\u001b[0m\n\u001b[0m\u001b[1;32m     11\u001b[0m \u001b[0mplt\u001b[0m\u001b[0;34m.\u001b[0m\u001b[0mshow\u001b[0m\u001b[0;34m(\u001b[0m\u001b[0;34m)\u001b[0m\u001b[0;34m\u001b[0m\u001b[0;34m\u001b[0m\u001b[0m\n",
            "\u001b[0;32m/usr/local/lib/python3.7/dist-packages/sklearn/utils/deprecation.py\u001b[0m in \u001b[0;36mwrapped\u001b[0;34m(*args, **kwargs)\u001b[0m\n\u001b[1;32m     86\u001b[0m         \u001b[0;32mdef\u001b[0m \u001b[0mwrapped\u001b[0m\u001b[0;34m(\u001b[0m\u001b[0;34m*\u001b[0m\u001b[0margs\u001b[0m\u001b[0;34m,\u001b[0m \u001b[0;34m**\u001b[0m\u001b[0mkwargs\u001b[0m\u001b[0;34m)\u001b[0m\u001b[0;34m:\u001b[0m\u001b[0;34m\u001b[0m\u001b[0;34m\u001b[0m\u001b[0m\n\u001b[1;32m     87\u001b[0m             \u001b[0mwarnings\u001b[0m\u001b[0;34m.\u001b[0m\u001b[0mwarn\u001b[0m\u001b[0;34m(\u001b[0m\u001b[0mmsg\u001b[0m\u001b[0;34m,\u001b[0m \u001b[0mcategory\u001b[0m\u001b[0;34m=\u001b[0m\u001b[0mFutureWarning\u001b[0m\u001b[0;34m)\u001b[0m\u001b[0;34m\u001b[0m\u001b[0;34m\u001b[0m\u001b[0m\n\u001b[0;32m---> 88\u001b[0;31m             \u001b[0;32mreturn\u001b[0m \u001b[0mfun\u001b[0m\u001b[0;34m(\u001b[0m\u001b[0;34m*\u001b[0m\u001b[0margs\u001b[0m\u001b[0;34m,\u001b[0m \u001b[0;34m**\u001b[0m\u001b[0mkwargs\u001b[0m\u001b[0;34m)\u001b[0m\u001b[0;34m\u001b[0m\u001b[0;34m\u001b[0m\u001b[0m\n\u001b[0m\u001b[1;32m     89\u001b[0m \u001b[0;34m\u001b[0m\u001b[0m\n\u001b[1;32m     90\u001b[0m         \u001b[0mwrapped\u001b[0m\u001b[0;34m.\u001b[0m\u001b[0m__doc__\u001b[0m \u001b[0;34m=\u001b[0m \u001b[0mself\u001b[0m\u001b[0;34m.\u001b[0m\u001b[0m_update_doc\u001b[0m\u001b[0;34m(\u001b[0m\u001b[0mwrapped\u001b[0m\u001b[0;34m.\u001b[0m\u001b[0m__doc__\u001b[0m\u001b[0;34m)\u001b[0m\u001b[0;34m\u001b[0m\u001b[0;34m\u001b[0m\u001b[0m\n",
            "\u001b[0;31mTypeError\u001b[0m: plot_confusion_matrix() got an unexpected keyword argument 'cm'"
          ]
        },
        {
          "output_type": "display_data",
          "data": {
            "text/plain": [
              "<Figure size 216x216 with 0 Axes>"
            ]
          },
          "metadata": {}
        }
      ]
    },
    {
      "cell_type": "code",
      "source": [],
      "metadata": {
        "id": "PIWyRas3YneA"
      },
      "execution_count": null,
      "outputs": []
    },
    {
      "cell_type": "code",
      "source": [],
      "metadata": {
        "id": "REKxCpMEYnbe"
      },
      "execution_count": null,
      "outputs": []
    },
    {
      "cell_type": "code",
      "source": [],
      "metadata": {
        "id": "ltSri_drYnRV"
      },
      "execution_count": null,
      "outputs": []
    },
    {
      "cell_type": "code",
      "source": [
        "#We start by creating the bootstrap samples\n",
        "def create_bootstrap_oob(df):\n",
        "  global df_oob\n",
        "  global df_bootstrap_sample\n",
        "  #Creating bootstrap sample\n",
        "  df_bootstrap_sample=resample(df,replace=True,n_samples=100)\n",
        "  #creating oob sample\n",
        "  bootstrap_sample_index=tuple(df_bootstrap_sample.index)\n",
        "  bootstrap_df=df.index.isin(bootstrap_sample_index)\n",
        "  df_oob=df[~bootstrap_df]"
      ],
      "metadata": {
        "id": "A693JIW4MToP"
      },
      "execution_count": null,
      "outputs": []
    },
    {
      "cell_type": "markdown",
      "source": [
        "We build models using the bootstrap samples and average the cost function across all the models. We use the SGDRegressor() on each bootstrap sample. In the following code block, we reuse our previously written custom function, create_bootstrap_oob(), to create the bootstrap and OOB error samples:"
      ],
      "metadata": {
        "id": "H5p63woUNd5w"
      }
    },
    {
      "cell_type": "code",
      "source": [
        "iteration=50\n",
        "mse_each_iteration=list()\n",
        "lm=SGDRegressor()\n",
        "total_mse=0\n",
        "average_mse=list()\n",
        "\n",
        "for i in range(iteration):\n",
        "  create_bootstrap_oob(df_autodata)\n",
        "\n",
        "  #bootstrap sample features set\n",
        "  x_bs=df_bootstrap_sample.iloc[:,1:8]\n",
        "  #Bootstrap sample response variable\n",
        "  y_bs=df_bootstrap_sample.iloc[:,0]\n",
        "\n",
        "  #oob sample features set\n",
        "  x_oob=df_oob.iloc[:,1:8]\n",
        "  #OB sample response variable\n",
        "  y_oob=df_oob.iloc[:,0]\n",
        "\n",
        "  # fit your model with bootstrap sample\n",
        "  lm=SGDRegressor()\n",
        "  lm.fit(x_bs,y_bs)\n",
        "\n",
        "  #test your model on out of bag sample\n",
        "  predictedvalues=lm.predict(x_oob)\n",
        "\n",
        "  #capture mse for the predicted values\n",
        "  mse=mean_squared_error(y_oob,predictedvalues)\n",
        "\n",
        "  #create a list of mse values\n",
        "  mse_each_iteration.append(mse)"
      ],
      "metadata": {
        "id": "ZAFszG-sMTmO"
      },
      "execution_count": null,
      "outputs": []
    },
    {
      "cell_type": "code",
      "source": [
        "#Plot mse for each model built\n",
        "import matplotlib.pyplot as plt\n",
        "f, ax=plt.subplots(figsize=(8,6))\n",
        "\n",
        "plt.plot(mse_each_iteration,'c--',label='MSE by iterations')\n",
        "\n",
        "plt.xlabel('Iterations')\n",
        "plt.ylabel('Mean squared error')\n",
        "plt.legend(loc=1)\n",
        "plt.show()"
      ],
      "metadata": {
        "colab": {
          "base_uri": "https://localhost:8080/",
          "height": 399
        },
        "id": "rJvQtMgEMTj-",
        "outputId": "b8cc8b4c-1c8f-48b9-b0bd-230ba9dec0dc"
      },
      "execution_count": null,
      "outputs": [
        {
          "output_type": "display_data",
          "data": {
            "text/plain": [
              "<Figure size 576x432 with 1 Axes>"
            ],
            "image/png": "[encoded data removed]"
          },
          "metadata": {
            "needs_background": "light"
          }
        }
      ]
    }
  ]
}